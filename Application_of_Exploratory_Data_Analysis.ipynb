{
 "cells": [
  {
   "cell_type": "markdown",
   "metadata": {},
   "source": [
    "<img src=\"https://raw.githubusercontent.com/aaa121/Exploratory-Data-Analysis/master/EDA-banner.jpg\"/>\n",
    "\n",
    "** by: **\n",
    "\n",
    "**                      Akinwande Atanda | University of Canterbury | New Zealand **"
   ]
  },
  {
   "cell_type": "markdown",
   "metadata": {},
   "source": [
    "### EDA: Introduction\n",
    "EDA is the statistical approach for examining data sets by summarising their key features and chracteristics through visualization and descriptive statistics. An EDA might also include hypothesis testing and modelling.\n",
    "\n",
    "One of the advantages of EDA techniques in the field of data mining and big data analytics is that it provide the support for selecting the appropriate statistical tools for fitting a dataset. The process of conducting EDA to make informed business or operational decisions are shown in the figure below:\n",
    "<img src=\"https://raw.githubusercontent.com/aaa121/Exploratory-Data-Analysis/master/EDA_In_Data_Processing.png\"/>\n",
    "\n",
    "The Iris data set is used to perform EDA. The analyses covered here include the following:\n",
    "* Data Summary\n",
    "* Data Visualization\n",
    "* Hypothesis Testing\n",
    "* Metrics Evaluation\n",
    "* Simulation\n",
    "* Bootstrapping"
   ]
  },
  {
   "cell_type": "code",
   "execution_count": 41,
   "metadata": {
    "collapsed": true
   },
   "outputs": [],
   "source": [
    "library(dplyr)"
   ]
  },
  {
   "cell_type": "code",
   "execution_count": 2,
   "metadata": {},
   "outputs": [
    {
     "data": {
      "text/html": [
       "<ol class=list-inline>\n",
       "\t<li>150</li>\n",
       "\t<li>5</li>\n",
       "</ol>\n"
      ],
      "text/latex": [
       "\\begin{enumerate*}\n",
       "\\item 150\n",
       "\\item 5\n",
       "\\end{enumerate*}\n"
      ],
      "text/markdown": [
       "1. 150\n",
       "2. 5\n",
       "\n",
       "\n"
      ],
      "text/plain": [
       "[1] 150   5"
      ]
     },
     "metadata": {},
     "output_type": "display_data"
    },
    {
     "data": {
      "text/html": [
       "<table>\n",
       "<thead><tr><th scope=col>Sepal.Length</th><th scope=col>Sepal.Width</th><th scope=col>Petal.Length</th><th scope=col>Petal.Width</th><th scope=col>Species</th></tr></thead>\n",
       "<tbody>\n",
       "\t<tr><td>5.1   </td><td>3.5   </td><td>1.4   </td><td>0.2   </td><td>setosa</td></tr>\n",
       "\t<tr><td>4.9   </td><td>3.0   </td><td>1.4   </td><td>0.2   </td><td>setosa</td></tr>\n",
       "\t<tr><td>4.7   </td><td>3.2   </td><td>1.3   </td><td>0.2   </td><td>setosa</td></tr>\n",
       "\t<tr><td>4.6   </td><td>3.1   </td><td>1.5   </td><td>0.2   </td><td>setosa</td></tr>\n",
       "\t<tr><td>5.0   </td><td>3.6   </td><td>1.4   </td><td>0.2   </td><td>setosa</td></tr>\n",
       "\t<tr><td>5.4   </td><td>3.9   </td><td>1.7   </td><td>0.4   </td><td>setosa</td></tr>\n",
       "\t<tr><td>4.6   </td><td>3.4   </td><td>1.4   </td><td>0.3   </td><td>setosa</td></tr>\n",
       "\t<tr><td>5.0   </td><td>3.4   </td><td>1.5   </td><td>0.2   </td><td>setosa</td></tr>\n",
       "\t<tr><td>4.4   </td><td>2.9   </td><td>1.4   </td><td>0.2   </td><td>setosa</td></tr>\n",
       "\t<tr><td>4.9   </td><td>3.1   </td><td>1.5   </td><td>0.1   </td><td>setosa</td></tr>\n",
       "</tbody>\n",
       "</table>\n"
      ],
      "text/latex": [
       "\\begin{tabular}{r|lllll}\n",
       " Sepal.Length & Sepal.Width & Petal.Length & Petal.Width & Species\\\\\n",
       "\\hline\n",
       "\t 5.1    & 3.5    & 1.4    & 0.2    & setosa\\\\\n",
       "\t 4.9    & 3.0    & 1.4    & 0.2    & setosa\\\\\n",
       "\t 4.7    & 3.2    & 1.3    & 0.2    & setosa\\\\\n",
       "\t 4.6    & 3.1    & 1.5    & 0.2    & setosa\\\\\n",
       "\t 5.0    & 3.6    & 1.4    & 0.2    & setosa\\\\\n",
       "\t 5.4    & 3.9    & 1.7    & 0.4    & setosa\\\\\n",
       "\t 4.6    & 3.4    & 1.4    & 0.3    & setosa\\\\\n",
       "\t 5.0    & 3.4    & 1.5    & 0.2    & setosa\\\\\n",
       "\t 4.4    & 2.9    & 1.4    & 0.2    & setosa\\\\\n",
       "\t 4.9    & 3.1    & 1.5    & 0.1    & setosa\\\\\n",
       "\\end{tabular}\n"
      ],
      "text/markdown": [
       "\n",
       "Sepal.Length | Sepal.Width | Petal.Length | Petal.Width | Species | \n",
       "|---|---|---|---|---|---|---|---|---|---|\n",
       "| 5.1    | 3.5    | 1.4    | 0.2    | setosa | \n",
       "| 4.9    | 3.0    | 1.4    | 0.2    | setosa | \n",
       "| 4.7    | 3.2    | 1.3    | 0.2    | setosa | \n",
       "| 4.6    | 3.1    | 1.5    | 0.2    | setosa | \n",
       "| 5.0    | 3.6    | 1.4    | 0.2    | setosa | \n",
       "| 5.4    | 3.9    | 1.7    | 0.4    | setosa | \n",
       "| 4.6    | 3.4    | 1.4    | 0.3    | setosa | \n",
       "| 5.0    | 3.4    | 1.5    | 0.2    | setosa | \n",
       "| 4.4    | 2.9    | 1.4    | 0.2    | setosa | \n",
       "| 4.9    | 3.1    | 1.5    | 0.1    | setosa | \n",
       "\n",
       "\n"
      ],
      "text/plain": [
       "   Sepal.Length Sepal.Width Petal.Length Petal.Width Species\n",
       "1  5.1          3.5         1.4          0.2         setosa \n",
       "2  4.9          3.0         1.4          0.2         setosa \n",
       "3  4.7          3.2         1.3          0.2         setosa \n",
       "4  4.6          3.1         1.5          0.2         setosa \n",
       "5  5.0          3.6         1.4          0.2         setosa \n",
       "6  5.4          3.9         1.7          0.4         setosa \n",
       "7  4.6          3.4         1.4          0.3         setosa \n",
       "8  5.0          3.4         1.5          0.2         setosa \n",
       "9  4.4          2.9         1.4          0.2         setosa \n",
       "10 4.9          3.1         1.5          0.1         setosa "
      ]
     },
     "metadata": {},
     "output_type": "display_data"
    }
   ],
   "source": [
    "dim(iris) #Dimension (R x C) of the Dataset\n",
    "head(iris,10)"
   ]
  },
  {
   "cell_type": "markdown",
   "metadata": {
    "collapsed": true
   },
   "source": [
    "**List of unique species in the dataset**"
   ]
  },
  {
   "cell_type": "code",
   "execution_count": 3,
   "metadata": {},
   "outputs": [
    {
     "data": {
      "text/html": [
       "<table>\n",
       "<thead><tr><th scope=col>Species</th></tr></thead>\n",
       "<tbody>\n",
       "\t<tr><td>setosa    </td></tr>\n",
       "\t<tr><td>versicolor</td></tr>\n",
       "\t<tr><td>virginica </td></tr>\n",
       "</tbody>\n",
       "</table>\n"
      ],
      "text/latex": [
       "\\begin{tabular}{r|l}\n",
       " Species\\\\\n",
       "\\hline\n",
       "\t setosa    \\\\\n",
       "\t versicolor\\\\\n",
       "\t virginica \\\\\n",
       "\\end{tabular}\n"
      ],
      "text/markdown": [
       "\n",
       "Species | \n",
       "|---|---|---|\n",
       "| setosa     | \n",
       "| versicolor | \n",
       "| virginica  | \n",
       "\n",
       "\n"
      ],
      "text/plain": [
       "  Species   \n",
       "1 setosa    \n",
       "2 versicolor\n",
       "3 virginica "
      ]
     },
     "metadata": {},
     "output_type": "display_data"
    }
   ],
   "source": [
    "distinct(iris, Species)"
   ]
  },
  {
   "cell_type": "markdown",
   "metadata": {},
   "source": [
    "### Exploratory Analysis"
   ]
  },
  {
   "cell_type": "code",
   "execution_count": 4,
   "metadata": {},
   "outputs": [
    {
     "data": {
      "text/plain": [
       "  Sepal.Length    Sepal.Width     Petal.Length    Petal.Width   \n",
       " Min.   :4.300   Min.   :2.000   Min.   :1.000   Min.   :0.100  \n",
       " 1st Qu.:5.100   1st Qu.:2.800   1st Qu.:1.600   1st Qu.:0.300  \n",
       " Median :5.800   Median :3.000   Median :4.350   Median :1.300  \n",
       " Mean   :5.843   Mean   :3.057   Mean   :3.758   Mean   :1.199  \n",
       " 3rd Qu.:6.400   3rd Qu.:3.300   3rd Qu.:5.100   3rd Qu.:1.800  \n",
       " Max.   :7.900   Max.   :4.400   Max.   :6.900   Max.   :2.500  \n",
       "       Species  \n",
       " setosa    :50  \n",
       " versicolor:50  \n",
       " virginica :50  \n",
       "                \n",
       "                \n",
       "                "
      ]
     },
     "metadata": {},
     "output_type": "display_data"
    }
   ],
   "source": [
    "summary(iris)"
   ]
  },
  {
   "cell_type": "code",
   "execution_count": 5,
   "metadata": {
    "collapsed": true
   },
   "outputs": [],
   "source": [
    "flowers <- group_by(iris, Species)"
   ]
  },
  {
   "cell_type": "markdown",
   "metadata": {},
   "source": [
    "**Average Sepal and Petal Length and Width for all the species**"
   ]
  },
  {
   "cell_type": "code",
   "execution_count": 6,
   "metadata": {},
   "outputs": [
    {
     "data": {
      "text/html": [
       "<table>\n",
       "<thead><tr><th scope=col>Avg.SL</th><th scope=col>Avg.SW</th><th scope=col>Avg.PL</th><th scope=col>Avg.PW</th></tr></thead>\n",
       "<tbody>\n",
       "\t<tr><td>5.843333</td><td>3.057333</td><td>3.758   </td><td>1.199333</td></tr>\n",
       "</tbody>\n",
       "</table>\n"
      ],
      "text/latex": [
       "\\begin{tabular}{r|llll}\n",
       " Avg.SL & Avg.SW & Avg.PL & Avg.PW\\\\\n",
       "\\hline\n",
       "\t 5.843333 & 3.057333 & 3.758    & 1.199333\\\\\n",
       "\\end{tabular}\n"
      ],
      "text/markdown": [
       "\n",
       "Avg.SL | Avg.SW | Avg.PL | Avg.PW | \n",
       "|---|\n",
       "| 5.843333 | 3.057333 | 3.758    | 1.199333 | \n",
       "\n",
       "\n"
      ],
      "text/plain": [
       "  Avg.SL   Avg.SW   Avg.PL Avg.PW  \n",
       "1 5.843333 3.057333 3.758  1.199333"
      ]
     },
     "metadata": {},
     "output_type": "display_data"
    }
   ],
   "source": [
    "summarise(iris, Avg.SL= mean(Sepal.Length), Avg.SW = mean(Sepal.Width), Avg.PL=mean(Petal.Length), Avg.PW =mean(Petal.Width))"
   ]
  },
  {
   "cell_type": "markdown",
   "metadata": {},
   "source": [
    "**Variation of Sepal and Petal Length and Width across all species**"
   ]
  },
  {
   "cell_type": "code",
   "execution_count": 7,
   "metadata": {},
   "outputs": [
    {
     "data": {
      "text/html": [
       "<table>\n",
       "<thead><tr><th scope=col>sd.SL</th><th scope=col>sd.SW</th><th scope=col>sd.PL</th><th scope=col>sd.PW</th></tr></thead>\n",
       "<tbody>\n",
       "\t<tr><td>0.8280661</td><td>0.4358663</td><td>1.765298 </td><td>0.7622377</td></tr>\n",
       "</tbody>\n",
       "</table>\n"
      ],
      "text/latex": [
       "\\begin{tabular}{r|llll}\n",
       " sd.SL & sd.SW & sd.PL & sd.PW\\\\\n",
       "\\hline\n",
       "\t 0.8280661 & 0.4358663 & 1.765298  & 0.7622377\\\\\n",
       "\\end{tabular}\n"
      ],
      "text/markdown": [
       "\n",
       "sd.SL | sd.SW | sd.PL | sd.PW | \n",
       "|---|\n",
       "| 0.8280661 | 0.4358663 | 1.765298  | 0.7622377 | \n",
       "\n",
       "\n"
      ],
      "text/plain": [
       "  sd.SL     sd.SW     sd.PL    sd.PW    \n",
       "1 0.8280661 0.4358663 1.765298 0.7622377"
      ]
     },
     "metadata": {},
     "output_type": "display_data"
    }
   ],
   "source": [
    "summarise(iris, sd.SL= sd(Sepal.Length), sd.SW = sd(Sepal.Width), sd.PL=sd(Petal.Length), sd.PW =sd(Petal.Width))"
   ]
  },
  {
   "cell_type": "markdown",
   "metadata": {},
   "source": [
    "**Average Sepal and Petal Length and Width by Species**"
   ]
  },
  {
   "cell_type": "code",
   "execution_count": 8,
   "metadata": {
    "collapsed": true
   },
   "outputs": [],
   "source": [
    "Avg.Features.Species <- summarise(flowers, count = n(), Avg.SL= mean(Sepal.Length), Avg.SW = mean(Sepal.Width), Avg.PL=mean(Petal.Length), Avg.PW =mean(Petal.Width))"
   ]
  },
  {
   "cell_type": "code",
   "execution_count": 9,
   "metadata": {},
   "outputs": [
    {
     "data": {
      "text/html": [
       "<table>\n",
       "<thead><tr><th scope=col>Species</th><th scope=col>count</th><th scope=col>Avg.SL</th><th scope=col>Avg.SW</th><th scope=col>Avg.PL</th><th scope=col>Avg.PW</th></tr></thead>\n",
       "<tbody>\n",
       "\t<tr><td>setosa    </td><td>50        </td><td>5.006     </td><td>3.428     </td><td>1.462     </td><td>0.246     </td></tr>\n",
       "\t<tr><td>versicolor</td><td>50        </td><td>5.936     </td><td>2.770     </td><td>4.260     </td><td>1.326     </td></tr>\n",
       "\t<tr><td>virginica </td><td>50        </td><td>6.588     </td><td>2.974     </td><td>5.552     </td><td>2.026     </td></tr>\n",
       "</tbody>\n",
       "</table>\n"
      ],
      "text/latex": [
       "\\begin{tabular}{r|llllll}\n",
       " Species & count & Avg.SL & Avg.SW & Avg.PL & Avg.PW\\\\\n",
       "\\hline\n",
       "\t setosa     & 50         & 5.006      & 3.428      & 1.462      & 0.246     \\\\\n",
       "\t versicolor & 50         & 5.936      & 2.770      & 4.260      & 1.326     \\\\\n",
       "\t virginica  & 50         & 6.588      & 2.974      & 5.552      & 2.026     \\\\\n",
       "\\end{tabular}\n"
      ],
      "text/markdown": [
       "\n",
       "Species | count | Avg.SL | Avg.SW | Avg.PL | Avg.PW | \n",
       "|---|---|---|\n",
       "| setosa     | 50         | 5.006      | 3.428      | 1.462      | 0.246      | \n",
       "| versicolor | 50         | 5.936      | 2.770      | 4.260      | 1.326      | \n",
       "| virginica  | 50         | 6.588      | 2.974      | 5.552      | 2.026      | \n",
       "\n",
       "\n"
      ],
      "text/plain": [
       "  Species    count Avg.SL Avg.SW Avg.PL Avg.PW\n",
       "1 setosa     50    5.006  3.428  1.462  0.246 \n",
       "2 versicolor 50    5.936  2.770  4.260  1.326 \n",
       "3 virginica  50    6.588  2.974  5.552  2.026 "
      ]
     },
     "metadata": {},
     "output_type": "display_data"
    }
   ],
   "source": [
    "Avg.Features.Species"
   ]
  },
  {
   "cell_type": "markdown",
   "metadata": {},
   "source": [
    "**Variation of Sepal and Petal Length and Width by Species**"
   ]
  },
  {
   "cell_type": "code",
   "execution_count": 10,
   "metadata": {
    "collapsed": true
   },
   "outputs": [],
   "source": [
    "Features.Variation.Species <- summarise(flowers, count = n(), sd.SL= sd(Sepal.Length), sd.SW = sd(Sepal.Width), sd.PL=sd(Petal.Length), sd.PW =sd(Petal.Width))"
   ]
  },
  {
   "cell_type": "code",
   "execution_count": 11,
   "metadata": {},
   "outputs": [
    {
     "data": {
      "text/html": [
       "<table>\n",
       "<thead><tr><th scope=col>Species</th><th scope=col>count</th><th scope=col>sd.SL</th><th scope=col>sd.SW</th><th scope=col>sd.PL</th><th scope=col>sd.PW</th></tr></thead>\n",
       "<tbody>\n",
       "\t<tr><td>setosa    </td><td>50        </td><td>0.3524897 </td><td>0.3790644 </td><td>0.1736640 </td><td>0.1053856 </td></tr>\n",
       "\t<tr><td>versicolor</td><td>50        </td><td>0.5161711 </td><td>0.3137983 </td><td>0.4699110 </td><td>0.1977527 </td></tr>\n",
       "\t<tr><td>virginica </td><td>50        </td><td>0.6358796 </td><td>0.3224966 </td><td>0.5518947 </td><td>0.2746501 </td></tr>\n",
       "</tbody>\n",
       "</table>\n"
      ],
      "text/latex": [
       "\\begin{tabular}{r|llllll}\n",
       " Species & count & sd.SL & sd.SW & sd.PL & sd.PW\\\\\n",
       "\\hline\n",
       "\t setosa     & 50         & 0.3524897  & 0.3790644  & 0.1736640  & 0.1053856 \\\\\n",
       "\t versicolor & 50         & 0.5161711  & 0.3137983  & 0.4699110  & 0.1977527 \\\\\n",
       "\t virginica  & 50         & 0.6358796  & 0.3224966  & 0.5518947  & 0.2746501 \\\\\n",
       "\\end{tabular}\n"
      ],
      "text/markdown": [
       "\n",
       "Species | count | sd.SL | sd.SW | sd.PL | sd.PW | \n",
       "|---|---|---|\n",
       "| setosa     | 50         | 0.3524897  | 0.3790644  | 0.1736640  | 0.1053856  | \n",
       "| versicolor | 50         | 0.5161711  | 0.3137983  | 0.4699110  | 0.1977527  | \n",
       "| virginica  | 50         | 0.6358796  | 0.3224966  | 0.5518947  | 0.2746501  | \n",
       "\n",
       "\n"
      ],
      "text/plain": [
       "  Species    count sd.SL     sd.SW     sd.PL     sd.PW    \n",
       "1 setosa     50    0.3524897 0.3790644 0.1736640 0.1053856\n",
       "2 versicolor 50    0.5161711 0.3137983 0.4699110 0.1977527\n",
       "3 virginica  50    0.6358796 0.3224966 0.5518947 0.2746501"
      ]
     },
     "metadata": {},
     "output_type": "display_data"
    }
   ],
   "source": [
    "Features.Variation.Species"
   ]
  },
  {
   "cell_type": "markdown",
   "metadata": {},
   "source": [
    "**Between species summary analysis**\n",
    "\n",
    "The following is to compare the sepal length of the flowers by species based on their mean, 1st quantile, 3rd quantile, max and min values.\n",
    "\n",
    "*The box plot indicates that the average sepal length for each flower specie is different. Setosa has the least length and average, while virginica has the highest mean and length value.*"
   ]
  },
  {
   "cell_type": "code",
   "execution_count": 12,
   "metadata": {},
   "outputs": [
    {
     "data": {
      "image/png": "[encoded data removed]",
      "text/plain": [
       "plot without title"
      ]
     },
     "metadata": {},
     "output_type": "display_data"
    }
   ],
   "source": [
    "boxplot(iris$Sepal.Length ~ iris$Species, ylab=\"Sepal Length(cm)\", col=\"orange\")"
   ]
  },
  {
   "cell_type": "code",
   "execution_count": 13,
   "metadata": {},
   "outputs": [
    {
     "data": {
      "image/png": "[encoded data removed]",
      "text/plain": [
       "plot without title"
      ]
     },
     "metadata": {},
     "output_type": "display_data"
    }
   ],
   "source": [
    "plot(iris$Sepal.Length, iris$Sepal.Width,\n",
    "     xlab=\"Sepal Length(cm)\", ylab=\"Sepal Width(cm)\",\n",
    "     xlim=c(0,10),ylim=c(0,5), col=as.numeric(iris$Species))\n",
    "\n",
    "legend(2,2,pch=16,col=1:3,c(\"setosa\", \"versicolor\", \"virginica\"))\n",
    "\n",
    "text(5,5,\"Cross-Variation of Different Species by Length and Width of Sepal\")"
   ]
  },
  {
   "cell_type": "markdown",
   "metadata": {},
   "source": [
    "*As shown in the plot below for petal's length of different species, it is clear that setosa has the least length among the examined flowers. Therefore, Setosa is the only flower with the shortest sepal and petal, while virginica has the longest*"
   ]
  },
  {
   "cell_type": "code",
   "execution_count": 14,
   "metadata": {},
   "outputs": [
    {
     "data": {
      "image/png": "[encoded data removed]",
      "text/plain": [
       "plot without title"
      ]
     },
     "metadata": {},
     "output_type": "display_data"
    }
   ],
   "source": [
    "boxplot(iris$Petal.Length ~ iris$Species, ylab=\"Petal Length(cm)\", col=3)"
   ]
  },
  {
   "cell_type": "code",
   "execution_count": 15,
   "metadata": {},
   "outputs": [
    {
     "data": {
      "image/png": "[encoded data removed]",
      "text/plain": [
       "plot without title"
      ]
     },
     "metadata": {},
     "output_type": "display_data"
    }
   ],
   "source": [
    "plot(iris$Petal.Length, iris$Petal.Width,\n",
    "     xlab=\"Petal Length(cm)\", ylab=\"Petal Width(cm)\",\n",
    "     xlim=c(0,10),ylim=c(0,5), col=as.numeric(iris$Species))\n",
    "\n",
    "legend(7,2,pch=16,col=1:3,c(\"setosa\", \"versicolor\", \"virginica\"))\n",
    "\n",
    "text(5,5,\"Cross-Variation of Different Species by Length and Width of Petal\")"
   ]
  },
  {
   "cell_type": "code",
   "execution_count": 16,
   "metadata": {
    "collapsed": true
   },
   "outputs": [],
   "source": [
    "library(ggplot2)"
   ]
  },
  {
   "cell_type": "code",
   "execution_count": 17,
   "metadata": {
    "collapsed": true
   },
   "outputs": [],
   "source": [
    "countsp <- summarise(iris, count=n())"
   ]
  },
  {
   "cell_type": "code",
   "execution_count": 18,
   "metadata": {},
   "outputs": [
    {
     "name": "stderr",
     "output_type": "stream",
     "text": [
      "`geom_smooth()` using method = 'loess'\n"
     ]
    },
    {
     "data": {},
     "metadata": {},
     "output_type": "display_data"
    },
    {
     "data": {
      "image/png": "[encoded data removed]",
      "text/plain": [
       "plot without title"
      ]
     },
     "metadata": {},
     "output_type": "display_data"
    }
   ],
   "source": [
    "ggplot(iris, aes(iris$Petal.Length, iris$Petal.Width)) + geom_point(aes(size = countsp), alpha = 1/2) + geom_smooth() +scale_size_area()"
   ]
  },
  {
   "cell_type": "markdown",
   "metadata": {},
   "source": [
    "*The fitted scatter plot above shows the wide variation in petal length relative to the width for all of the flowers species. Some species such as Setosa significantly cluster close the average compared to other variants of flowers.*"
   ]
  },
  {
   "cell_type": "markdown",
   "metadata": {},
   "source": [
    "### Test of Significance Difference"
   ]
  },
  {
   "cell_type": "code",
   "execution_count": 19,
   "metadata": {
    "collapsed": true
   },
   "outputs": [],
   "source": [
    "Species.Ver.Vir <- filter(iris, Species != 'setosa')"
   ]
  },
  {
   "cell_type": "code",
   "execution_count": 20,
   "metadata": {},
   "outputs": [
    {
     "data": {
      "text/html": [
       "<table>\n",
       "<thead><tr><th scope=col>Sepal.Length</th><th scope=col>Sepal.Width</th><th scope=col>Petal.Length</th><th scope=col>Petal.Width</th><th scope=col>Species</th></tr></thead>\n",
       "<tbody>\n",
       "\t<tr><td>7.0       </td><td>3.2       </td><td>4.7       </td><td>1.4       </td><td>versicolor</td></tr>\n",
       "\t<tr><td>6.4       </td><td>3.2       </td><td>4.5       </td><td>1.5       </td><td>versicolor</td></tr>\n",
       "\t<tr><td>6.9       </td><td>3.1       </td><td>4.9       </td><td>1.5       </td><td>versicolor</td></tr>\n",
       "\t<tr><td>5.5       </td><td>2.3       </td><td>4.0       </td><td>1.3       </td><td>versicolor</td></tr>\n",
       "\t<tr><td>6.5       </td><td>2.8       </td><td>4.6       </td><td>1.5       </td><td>versicolor</td></tr>\n",
       "\t<tr><td>5.7       </td><td>2.8       </td><td>4.5       </td><td>1.3       </td><td>versicolor</td></tr>\n",
       "\t<tr><td>6.3       </td><td>3.3       </td><td>4.7       </td><td>1.6       </td><td>versicolor</td></tr>\n",
       "\t<tr><td>4.9       </td><td>2.4       </td><td>3.3       </td><td>1.0       </td><td>versicolor</td></tr>\n",
       "\t<tr><td>6.6       </td><td>2.9       </td><td>4.6       </td><td>1.3       </td><td>versicolor</td></tr>\n",
       "\t<tr><td>5.2       </td><td>2.7       </td><td>3.9       </td><td>1.4       </td><td>versicolor</td></tr>\n",
       "</tbody>\n",
       "</table>\n"
      ],
      "text/latex": [
       "\\begin{tabular}{r|lllll}\n",
       " Sepal.Length & Sepal.Width & Petal.Length & Petal.Width & Species\\\\\n",
       "\\hline\n",
       "\t 7.0        & 3.2        & 4.7        & 1.4        & versicolor\\\\\n",
       "\t 6.4        & 3.2        & 4.5        & 1.5        & versicolor\\\\\n",
       "\t 6.9        & 3.1        & 4.9        & 1.5        & versicolor\\\\\n",
       "\t 5.5        & 2.3        & 4.0        & 1.3        & versicolor\\\\\n",
       "\t 6.5        & 2.8        & 4.6        & 1.5        & versicolor\\\\\n",
       "\t 5.7        & 2.8        & 4.5        & 1.3        & versicolor\\\\\n",
       "\t 6.3        & 3.3        & 4.7        & 1.6        & versicolor\\\\\n",
       "\t 4.9        & 2.4        & 3.3        & 1.0        & versicolor\\\\\n",
       "\t 6.6        & 2.9        & 4.6        & 1.3        & versicolor\\\\\n",
       "\t 5.2        & 2.7        & 3.9        & 1.4        & versicolor\\\\\n",
       "\\end{tabular}\n"
      ],
      "text/markdown": [
       "\n",
       "Sepal.Length | Sepal.Width | Petal.Length | Petal.Width | Species | \n",
       "|---|---|---|---|---|---|---|---|---|---|\n",
       "| 7.0        | 3.2        | 4.7        | 1.4        | versicolor | \n",
       "| 6.4        | 3.2        | 4.5        | 1.5        | versicolor | \n",
       "| 6.9        | 3.1        | 4.9        | 1.5        | versicolor | \n",
       "| 5.5        | 2.3        | 4.0        | 1.3        | versicolor | \n",
       "| 6.5        | 2.8        | 4.6        | 1.5        | versicolor | \n",
       "| 5.7        | 2.8        | 4.5        | 1.3        | versicolor | \n",
       "| 6.3        | 3.3        | 4.7        | 1.6        | versicolor | \n",
       "| 4.9        | 2.4        | 3.3        | 1.0        | versicolor | \n",
       "| 6.6        | 2.9        | 4.6        | 1.3        | versicolor | \n",
       "| 5.2        | 2.7        | 3.9        | 1.4        | versicolor | \n",
       "\n",
       "\n"
      ],
      "text/plain": [
       "   Sepal.Length Sepal.Width Petal.Length Petal.Width Species   \n",
       "1  7.0          3.2         4.7          1.4         versicolor\n",
       "2  6.4          3.2         4.5          1.5         versicolor\n",
       "3  6.9          3.1         4.9          1.5         versicolor\n",
       "4  5.5          2.3         4.0          1.3         versicolor\n",
       "5  6.5          2.8         4.6          1.5         versicolor\n",
       "6  5.7          2.8         4.5          1.3         versicolor\n",
       "7  6.3          3.3         4.7          1.6         versicolor\n",
       "8  4.9          2.4         3.3          1.0         versicolor\n",
       "9  6.6          2.9         4.6          1.3         versicolor\n",
       "10 5.2          2.7         3.9          1.4         versicolor"
      ]
     },
     "metadata": {},
     "output_type": "display_data"
    }
   ],
   "source": [
    "head(Species.Ver.Vir,10)"
   ]
  },
  {
   "cell_type": "code",
   "execution_count": 21,
   "metadata": {},
   "outputs": [
    {
     "data": {
      "image/png": "[encoded data removed]",
      "text/plain": [
       "Plot with title \"\""
      ]
     },
     "metadata": {},
     "output_type": "display_data"
    }
   ],
   "source": [
    "hist(Species.Ver.Vir$Sepal.Length, col='orange', main='')"
   ]
  },
  {
   "cell_type": "code",
   "execution_count": 22,
   "metadata": {},
   "outputs": [
    {
     "data": {
      "text/plain": [
       "\n",
       "\tWelch Two Sample t-test\n",
       "\n",
       "data:  Sepal.Length by Species\n",
       "t = -5.6292, df = 94.025, p-value = 1.866e-07\n",
       "alternative hypothesis: true difference in means is not equal to 0\n",
       "95 percent confidence interval:\n",
       " -0.8819731 -0.4220269\n",
       "sample estimates:\n",
       "mean in group versicolor  mean in group virginica \n",
       "                   5.936                    6.588 \n"
      ]
     },
     "metadata": {},
     "output_type": "display_data"
    }
   ],
   "source": [
    "t.test(Sepal.Length ~ Species, data=Species.Ver.Vir)"
   ]
  },
  {
   "cell_type": "markdown",
   "metadata": {},
   "source": [
    "*The tested hypothesis strongly indicate evidence of statistical difference between the average speal length of versicolor and virginican species*"
   ]
  },
  {
   "cell_type": "markdown",
   "metadata": {},
   "source": [
    "#### Robustness Check #1: Random Selection of Sample"
   ]
  },
  {
   "cell_type": "code",
   "execution_count": 23,
   "metadata": {},
   "outputs": [
    {
     "data": {
      "text/plain": [
       "\n",
       "\tWelch Two Sample t-test\n",
       "\n",
       "data:  Sepal.Length by sample(Species)\n",
       "t = 0.84363, df = 94.323, p-value = 0.401\n",
       "alternative hypothesis: true difference in means is not equal to 0\n",
       "95 percent confidence interval:\n",
       " -0.151587  0.375587\n",
       "sample estimates:\n",
       "mean in group versicolor  mean in group virginica \n",
       "                   6.318                    6.206 \n"
      ]
     },
     "metadata": {},
     "output_type": "display_data"
    }
   ],
   "source": [
    "t.test(Sepal.Length ~ sample(Species), data=Species.Ver.Vir)"
   ]
  },
  {
   "cell_type": "markdown",
   "metadata": {},
   "source": [
    "*Taking a random sample of the data and re-testing the hypothesis yield outcomes that contradict the previous finding. This indicates that there is no sufficient evidence to support the evidence of statistical difference between average sepal length of versicolor and virginican species.*"
   ]
  },
  {
   "cell_type": "markdown",
   "metadata": {},
   "source": [
    "#### Robustness Check #2: Simulation Approach"
   ]
  },
  {
   "cell_type": "code",
   "execution_count": 24,
   "metadata": {
    "collapsed": true
   },
   "outputs": [],
   "source": [
    "VerVir.t <- numeric(10000)\n",
    "VerVir.pvalue <- numeric(10000)"
   ]
  },
  {
   "cell_type": "code",
   "execution_count": 25,
   "metadata": {},
   "outputs": [
    {
     "data": {
      "text/html": [
       "<ol class=list-inline>\n",
       "\t<li>'statistic'</li>\n",
       "\t<li>'parameter'</li>\n",
       "\t<li>'p.value'</li>\n",
       "\t<li>'conf.int'</li>\n",
       "\t<li>'estimate'</li>\n",
       "\t<li>'null.value'</li>\n",
       "\t<li>'alternative'</li>\n",
       "\t<li>'method'</li>\n",
       "\t<li>'data.name'</li>\n",
       "</ol>\n"
      ],
      "text/latex": [
       "\\begin{enumerate*}\n",
       "\\item 'statistic'\n",
       "\\item 'parameter'\n",
       "\\item 'p.value'\n",
       "\\item 'conf.int'\n",
       "\\item 'estimate'\n",
       "\\item 'null.value'\n",
       "\\item 'alternative'\n",
       "\\item 'method'\n",
       "\\item 'data.name'\n",
       "\\end{enumerate*}\n"
      ],
      "text/markdown": [
       "1. 'statistic'\n",
       "2. 'parameter'\n",
       "3. 'p.value'\n",
       "4. 'conf.int'\n",
       "5. 'estimate'\n",
       "6. 'null.value'\n",
       "7. 'alternative'\n",
       "8. 'method'\n",
       "9. 'data.name'\n",
       "\n",
       "\n"
      ],
      "text/plain": [
       "[1] \"statistic\"   \"parameter\"   \"p.value\"     \"conf.int\"    \"estimate\"   \n",
       "[6] \"null.value\"  \"alternative\" \"method\"      \"data.name\"  "
      ]
     },
     "metadata": {},
     "output_type": "display_data"
    }
   ],
   "source": [
    "VVtest <- t.test(Sepal.Length ~ sample(Species), data=Species.Ver.Vir)\n",
    "names(VVtest)"
   ]
  },
  {
   "cell_type": "code",
   "execution_count": 26,
   "metadata": {
    "collapsed": true
   },
   "outputs": [],
   "source": [
    "for (i in 1:10000){\n",
    "    VV <- t.test(Sepal.Length ~ sample(Species), data=Species.Ver.Vir)\n",
    "    VerVir.t[i] <- VV$statistic\n",
    "}"
   ]
  },
  {
   "cell_type": "code",
   "execution_count": 27,
   "metadata": {},
   "outputs": [
    {
     "data": {
      "text/plain": [
       "     Min.   1st Qu.    Median      Mean   3rd Qu.      Max. \n",
       "-4.208000 -0.661900  0.000000  0.009218  0.692200  3.905000 "
      ]
     },
     "metadata": {},
     "output_type": "display_data"
    }
   ],
   "source": [
    "summary(VerVir.t)"
   ]
  },
  {
   "cell_type": "code",
   "execution_count": 28,
   "metadata": {},
   "outputs": [
    {
     "data": {
      "image/png": "[encoded data removed]",
      "text/plain": [
       "Plot with title \"\""
      ]
     },
     "metadata": {},
     "output_type": "display_data"
    }
   ],
   "source": [
    "hist(VerVir.t, col='orange', main='')"
   ]
  },
  {
   "cell_type": "code",
   "execution_count": 29,
   "metadata": {},
   "outputs": [
    {
     "data": {
      "text/plain": [
       "     Min.   1st Qu.    Median      Mean   3rd Qu.      Max. \n",
       "0.0000517 0.2414000 0.4905000 0.4985000 0.7418000 1.0000000 "
      ]
     },
     "metadata": {},
     "output_type": "display_data"
    }
   ],
   "source": [
    "for (i in 1:10000){\n",
    "    VV <- t.test(Sepal.Length ~ sample(Species), data=Species.Ver.Vir)\n",
    "    VerVir.pvalue[i] <- VV$p.value\n",
    "}\n",
    "summary(VerVir.pvalue)"
   ]
  },
  {
   "cell_type": "code",
   "execution_count": 30,
   "metadata": {},
   "outputs": [
    {
     "data": {
      "image/png": "[encoded data removed]",
      "text/plain": [
       "Plot with title \"\""
      ]
     },
     "metadata": {},
     "output_type": "display_data"
    }
   ],
   "source": [
    "hist(VerVir.pvalue, col='darkgreen', main='')"
   ]
  },
  {
   "cell_type": "markdown",
   "metadata": {},
   "source": [
    "*Also, outcomes from the simulation further provide evidence that there is no statistical difference between average sepal length of versicolor and virginican species.*"
   ]
  },
  {
   "cell_type": "markdown",
   "metadata": {},
   "source": [
    "#### Robustness Check #3: Boostrapping Approach\n",
    "*This approach is employed to test the adequacy of sample size and variation in the mean length ratio of Sepal to Petal across examined species.*"
   ]
  },
  {
   "cell_type": "code",
   "execution_count": 31,
   "metadata": {},
   "outputs": [
    {
     "data": {
      "text/html": [
       "<table>\n",
       "<thead><tr><th scope=col>Sepal.Length</th><th scope=col>Sepal.Width</th><th scope=col>Petal.Length</th><th scope=col>Petal.Width</th><th scope=col>Species</th><th scope=col>Length.Ratio</th></tr></thead>\n",
       "<tbody>\n",
       "\t<tr><td>5.1     </td><td>3.5     </td><td>1.4     </td><td>0.2     </td><td>setosa  </td><td>3.642857</td></tr>\n",
       "\t<tr><td>4.9     </td><td>3.0     </td><td>1.4     </td><td>0.2     </td><td>setosa  </td><td>3.500000</td></tr>\n",
       "\t<tr><td>4.7     </td><td>3.2     </td><td>1.3     </td><td>0.2     </td><td>setosa  </td><td>3.615385</td></tr>\n",
       "\t<tr><td>4.6     </td><td>3.1     </td><td>1.5     </td><td>0.2     </td><td>setosa  </td><td>3.066667</td></tr>\n",
       "\t<tr><td>5.0     </td><td>3.6     </td><td>1.4     </td><td>0.2     </td><td>setosa  </td><td>3.571429</td></tr>\n",
       "</tbody>\n",
       "</table>\n"
      ],
      "text/latex": [
       "\\begin{tabular}{r|llllll}\n",
       " Sepal.Length & Sepal.Width & Petal.Length & Petal.Width & Species & Length.Ratio\\\\\n",
       "\\hline\n",
       "\t 5.1      & 3.5      & 1.4      & 0.2      & setosa   & 3.642857\\\\\n",
       "\t 4.9      & 3.0      & 1.4      & 0.2      & setosa   & 3.500000\\\\\n",
       "\t 4.7      & 3.2      & 1.3      & 0.2      & setosa   & 3.615385\\\\\n",
       "\t 4.6      & 3.1      & 1.5      & 0.2      & setosa   & 3.066667\\\\\n",
       "\t 5.0      & 3.6      & 1.4      & 0.2      & setosa   & 3.571429\\\\\n",
       "\\end{tabular}\n"
      ],
      "text/markdown": [
       "\n",
       "Sepal.Length | Sepal.Width | Petal.Length | Petal.Width | Species | Length.Ratio | \n",
       "|---|---|---|---|---|\n",
       "| 5.1      | 3.5      | 1.4      | 0.2      | setosa   | 3.642857 | \n",
       "| 4.9      | 3.0      | 1.4      | 0.2      | setosa   | 3.500000 | \n",
       "| 4.7      | 3.2      | 1.3      | 0.2      | setosa   | 3.615385 | \n",
       "| 4.6      | 3.1      | 1.5      | 0.2      | setosa   | 3.066667 | \n",
       "| 5.0      | 3.6      | 1.4      | 0.2      | setosa   | 3.571429 | \n",
       "\n",
       "\n"
      ],
      "text/plain": [
       "  Sepal.Length Sepal.Width Petal.Length Petal.Width Species Length.Ratio\n",
       "1 5.1          3.5         1.4          0.2         setosa  3.642857    \n",
       "2 4.9          3.0         1.4          0.2         setosa  3.500000    \n",
       "3 4.7          3.2         1.3          0.2         setosa  3.615385    \n",
       "4 4.6          3.1         1.5          0.2         setosa  3.066667    \n",
       "5 5.0          3.6         1.4          0.2         setosa  3.571429    "
      ]
     },
     "metadata": {},
     "output_type": "display_data"
    }
   ],
   "source": [
    "iris$Length.Ratio <- iris$Sepal.Length/iris$Petal.Length\n",
    "head(iris,5)"
   ]
  },
  {
   "cell_type": "code",
   "execution_count": 32,
   "metadata": {},
   "outputs": [
    {
     "data": {
      "text/html": [
       "<table>\n",
       "<thead><tr><th scope=col>Species</th><th scope=col>Avg.Length.Ratio</th><th scope=col>Sd.Length.Ratio</th><th scope=col>Var.Length.Ratio</th><th scope=col>count</th></tr></thead>\n",
       "<tbody>\n",
       "\t<tr><td>setosa     </td><td>3.464906   </td><td>0.43021683 </td><td>0.185086519</td><td>50         </td></tr>\n",
       "\t<tr><td>versicolor </td><td>1.400896   </td><td>0.10456505 </td><td>0.010933850</td><td>50         </td></tr>\n",
       "\t<tr><td>virginica  </td><td>1.188350   </td><td>0.06232545 </td><td>0.003884462</td><td>50         </td></tr>\n",
       "</tbody>\n",
       "</table>\n"
      ],
      "text/latex": [
       "\\begin{tabular}{r|lllll}\n",
       " Species & Avg.Length.Ratio & Sd.Length.Ratio & Var.Length.Ratio & count\\\\\n",
       "\\hline\n",
       "\t setosa      & 3.464906    & 0.43021683  & 0.185086519 & 50         \\\\\n",
       "\t versicolor  & 1.400896    & 0.10456505  & 0.010933850 & 50         \\\\\n",
       "\t virginica   & 1.188350    & 0.06232545  & 0.003884462 & 50         \\\\\n",
       "\\end{tabular}\n"
      ],
      "text/markdown": [
       "\n",
       "Species | Avg.Length.Ratio | Sd.Length.Ratio | Var.Length.Ratio | count | \n",
       "|---|---|---|\n",
       "| setosa      | 3.464906    | 0.43021683  | 0.185086519 | 50          | \n",
       "| versicolor  | 1.400896    | 0.10456505  | 0.010933850 | 50          | \n",
       "| virginica   | 1.188350    | 0.06232545  | 0.003884462 | 50          | \n",
       "\n",
       "\n"
      ],
      "text/plain": [
       "  Species    Avg.Length.Ratio Sd.Length.Ratio Var.Length.Ratio count\n",
       "1 setosa     3.464906         0.43021683      0.185086519      50   \n",
       "2 versicolor 1.400896         0.10456505      0.010933850      50   \n",
       "3 virginica  1.188350         0.06232545      0.003884462      50   "
      ]
     },
     "metadata": {},
     "output_type": "display_data"
    }
   ],
   "source": [
    "summarise(group_by(iris, Species), Avg.Length.Ratio = mean(Length.Ratio), Sd.Length.Ratio = sd(Length.Ratio), Var.Length.Ratio = var(Length.Ratio), count=n())"
   ]
  },
  {
   "cell_type": "code",
   "execution_count": 33,
   "metadata": {
    "collapsed": true
   },
   "outputs": [],
   "source": [
    "Avg.Length.Ratio <- tapply(iris$Length.Ratio, iris$Species,  mean)\n",
    "Sd.Length.Ratio <- tapply(iris$Length.Ratio, iris$Species,  sd)"
   ]
  },
  {
   "cell_type": "code",
   "execution_count": 34,
   "metadata": {
    "collapsed": true
   },
   "outputs": [],
   "source": [
    "Lower.CI.Baseline <- round(Avg.Length.Ratio - 1.96*Sd.Length.Ratio/sqrt(50),2)\n",
    "Upper.CI.Baseline <- round(Avg.Length.Ratio + 1.96*Sd.Length.Ratio/sqrt(50),2)"
   ]
  },
  {
   "cell_type": "code",
   "execution_count": 35,
   "metadata": {},
   "outputs": [
    {
     "data": {
      "text/html": [
       "<dl class=dl-horizontal>\n",
       "\t<dt>setosa</dt>\n",
       "\t\t<dd>3.35</dd>\n",
       "\t<dt>versicolor</dt>\n",
       "\t\t<dd>1.37</dd>\n",
       "\t<dt>virginica</dt>\n",
       "\t\t<dd>1.17</dd>\n",
       "</dl>\n"
      ],
      "text/plain": [
       "    setosa versicolor  virginica \n",
       "      3.35       1.37       1.17 "
      ]
     },
     "metadata": {},
     "output_type": "display_data"
    },
    {
     "data": {
      "text/html": [
       "<dl class=dl-horizontal>\n",
       "\t<dt>setosa</dt>\n",
       "\t\t<dd>3.58</dd>\n",
       "\t<dt>versicolor</dt>\n",
       "\t\t<dd>1.43</dd>\n",
       "\t<dt>virginica</dt>\n",
       "\t\t<dd>1.21</dd>\n",
       "</dl>\n"
      ],
      "text/plain": [
       "    setosa versicolor  virginica \n",
       "      3.58       1.43       1.21 "
      ]
     },
     "metadata": {},
     "output_type": "display_data"
    }
   ],
   "source": [
    "Lower.CI.Baseline; Upper.CI.Baseline"
   ]
  },
  {
   "cell_type": "markdown",
   "metadata": {},
   "source": [
    "**Then, boostrapping is conducted to determine the sample adequacy for mean variability in the confidence interval in order to show that the baseline mean is within the range shown above. For instance if the sample size is adequate to establish that setosa length ratio (3.46) is significantly between 3.35 and 3.58**"
   ]
  },
  {
   "cell_type": "code",
   "execution_count": 36,
   "metadata": {
    "collapsed": true
   },
   "outputs": [],
   "source": [
    "Setosa.Sepal.Petal.Length.Boostrap <- numeric(10000)"
   ]
  },
  {
   "cell_type": "code",
   "execution_count": 37,
   "metadata": {
    "collapsed": true
   },
   "outputs": [],
   "source": [
    "for (i in 1:10000){\n",
    "    Setosa.Sepal.Petal.Length.Boostrap[i] <- mean(sample(iris$Length.Ratio[iris$Species=='setosa'],50,replace=T))\n",
    "}"
   ]
  },
  {
   "cell_type": "code",
   "execution_count": 38,
   "metadata": {},
   "outputs": [
    {
     "data": {
      "text/html": [
       "<ol class=list-inline>\n",
       "\t<li>3.52040359099105</li>\n",
       "\t<li>3.43955189444199</li>\n",
       "\t<li>3.38782158450425</li>\n",
       "\t<li>3.46163621595123</li>\n",
       "\t<li>3.44101047017997</li>\n",
       "</ol>\n"
      ],
      "text/latex": [
       "\\begin{enumerate*}\n",
       "\\item 3.52040359099105\n",
       "\\item 3.43955189444199\n",
       "\\item 3.38782158450425\n",
       "\\item 3.46163621595123\n",
       "\\item 3.44101047017997\n",
       "\\end{enumerate*}\n"
      ],
      "text/markdown": [
       "1. 3.52040359099105\n",
       "2. 3.43955189444199\n",
       "3. 3.38782158450425\n",
       "4. 3.46163621595123\n",
       "5. 3.44101047017997\n",
       "\n",
       "\n"
      ],
      "text/plain": [
       "[1] 3.520404 3.439552 3.387822 3.461636 3.441010"
      ]
     },
     "metadata": {},
     "output_type": "display_data"
    }
   ],
   "source": [
    "head(Setosa.Sepal.Petal.Length.Boostrap,5)"
   ]
  },
  {
   "cell_type": "code",
   "execution_count": 39,
   "metadata": {},
   "outputs": [
    {
     "data": {
      "image/png": "[encoded data removed]",
      "text/plain": [
       "Plot with title \"\""
      ]
     },
     "metadata": {},
     "output_type": "display_data"
    }
   ],
   "source": [
    "hist(Setosa.Sepal.Petal.Length.Boostrap, col=3, main='')"
   ]
  },
  {
   "cell_type": "code",
   "execution_count": 40,
   "metadata": {},
   "outputs": [
    {
     "data": {
      "text/html": [
       "<dl class=dl-horizontal>\n",
       "\t<dt>25%</dt>\n",
       "\t\t<dd>3.42343000497954</dd>\n",
       "\t<dt>97.5%</dt>\n",
       "\t\t<dd>3.58720614888208</dd>\n",
       "</dl>\n"
      ],
      "text/latex": [
       "\\begin{description*}\n",
       "\\item[25\\textbackslash{}\\%] 3.42343000497954\n",
       "\\item[97.5\\textbackslash{}\\%] 3.58720614888208\n",
       "\\end{description*}\n"
      ],
      "text/markdown": [
       "25%\n",
       ":   3.4234300049795497.5%\n",
       ":   3.58720614888208\n",
       "\n"
      ],
      "text/plain": [
       "     25%    97.5% \n",
       "3.423430 3.587206 "
      ]
     },
     "metadata": {},
     "output_type": "display_data"
    }
   ],
   "source": [
    "quantile(Setosa.Sepal.Petal.Length.Boostrap,c(.25,.975))"
   ]
  },
  {
   "cell_type": "markdown",
   "metadata": {},
   "source": [
    "*The boostrap result shows that the sample is adequate  to support the evidence that the average setosa length ratio in Sepal and Petal is significantly 3.46*"
   ]
  }
 ],
 "metadata": {
  "kernelspec": {
   "display_name": "R",
   "language": "R",
   "name": "ir"
  },
  "language_info": {
   "codemirror_mode": "r",
   "file_extension": ".r",
   "mimetype": "text/x-r-source",
   "name": "R",
   "pygments_lexer": "r",
   "version": "3.3.2"
  }
 },
 "nbformat": 4,
 "nbformat_minor": 1
}
